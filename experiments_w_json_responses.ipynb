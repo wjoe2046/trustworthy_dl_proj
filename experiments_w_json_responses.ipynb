{
 "cells": [
  {
   "attachments": {},
   "cell_type": "markdown",
   "metadata": {},
   "source": [
    "## Experiments for Trustworthy AI Project"
   ]
  },
  {
   "attachments": {},
   "cell_type": "markdown",
   "metadata": {},
   "source": [
    "#### 1. Installing Packages and Dependencies "
   ]
  },
  {
   "cell_type": "code",
   "execution_count": 1,
   "metadata": {},
   "outputs": [
    {
     "name": "stdout",
     "output_type": "stream",
     "text": [
      "Requirement already satisfied: openai in /Users/staceyn/opt/miniconda3/envs/tf-venv/lib/python3.10/site-packages (0.27.2)\n",
      "Requirement already satisfied: tqdm in /Users/staceyn/opt/miniconda3/envs/tf-venv/lib/python3.10/site-packages (from openai) (4.64.1)\n",
      "Requirement already satisfied: requests>=2.20 in /Users/staceyn/opt/miniconda3/envs/tf-venv/lib/python3.10/site-packages (from openai) (2.28.1)\n",
      "Requirement already satisfied: aiohttp in /Users/staceyn/opt/miniconda3/envs/tf-venv/lib/python3.10/site-packages (from openai) (3.8.3)\n",
      "Requirement already satisfied: charset-normalizer<3,>=2 in /Users/staceyn/opt/miniconda3/envs/tf-venv/lib/python3.10/site-packages (from requests>=2.20->openai) (2.1.1)\n",
      "Requirement already satisfied: urllib3<1.27,>=1.21.1 in /Users/staceyn/opt/miniconda3/envs/tf-venv/lib/python3.10/site-packages (from requests>=2.20->openai) (1.26.11)\n",
      "Requirement already satisfied: idna<4,>=2.5 in /Users/staceyn/opt/miniconda3/envs/tf-venv/lib/python3.10/site-packages (from requests>=2.20->openai) (3.4)\n",
      "Requirement already satisfied: certifi>=2017.4.17 in /Users/staceyn/opt/miniconda3/envs/tf-venv/lib/python3.10/site-packages (from requests>=2.20->openai) (2022.6.15)\n",
      "Requirement already satisfied: frozenlist>=1.1.1 in /Users/staceyn/opt/miniconda3/envs/tf-venv/lib/python3.10/site-packages (from aiohttp->openai) (1.3.1)\n",
      "Requirement already satisfied: async-timeout<5.0,>=4.0.0a3 in /Users/staceyn/opt/miniconda3/envs/tf-venv/lib/python3.10/site-packages (from aiohttp->openai) (4.0.2)\n",
      "Requirement already satisfied: attrs>=17.3.0 in /Users/staceyn/opt/miniconda3/envs/tf-venv/lib/python3.10/site-packages (from aiohttp->openai) (22.1.0)\n",
      "Requirement already satisfied: aiosignal>=1.1.2 in /Users/staceyn/opt/miniconda3/envs/tf-venv/lib/python3.10/site-packages (from aiohttp->openai) (1.2.0)\n",
      "Requirement already satisfied: multidict<7.0,>=4.5 in /Users/staceyn/opt/miniconda3/envs/tf-venv/lib/python3.10/site-packages (from aiohttp->openai) (6.0.2)\n",
      "Requirement already satisfied: yarl<2.0,>=1.0 in /Users/staceyn/opt/miniconda3/envs/tf-venv/lib/python3.10/site-packages (from aiohttp->openai) (1.8.1)\n",
      "Note: you may need to restart the kernel to use updated packages.\n",
      "Requirement already satisfied: python-dotenv in /Users/staceyn/opt/miniconda3/envs/tf-venv/lib/python3.10/site-packages (1.0.0)\n",
      "Note: you may need to restart the kernel to use updated packages.\n",
      "Requirement already satisfied: requests in /Users/staceyn/opt/miniconda3/envs/tf-venv/lib/python3.10/site-packages (2.28.1)\n",
      "Requirement already satisfied: charset-normalizer<3,>=2 in /Users/staceyn/opt/miniconda3/envs/tf-venv/lib/python3.10/site-packages (from requests) (2.1.1)\n",
      "Requirement already satisfied: certifi>=2017.4.17 in /Users/staceyn/opt/miniconda3/envs/tf-venv/lib/python3.10/site-packages (from requests) (2022.6.15)\n",
      "Requirement already satisfied: urllib3<1.27,>=1.21.1 in /Users/staceyn/opt/miniconda3/envs/tf-venv/lib/python3.10/site-packages (from requests) (1.26.11)\n",
      "Requirement already satisfied: idna<4,>=2.5 in /Users/staceyn/opt/miniconda3/envs/tf-venv/lib/python3.10/site-packages (from requests) (3.4)\n",
      "Note: you may need to restart the kernel to use updated packages.\n",
      "Requirement already satisfied: openai in /Users/staceyn/opt/miniconda3/envs/tf-venv/lib/python3.10/site-packages (0.27.2)\n",
      "Collecting openai\n",
      "  Downloading openai-0.27.5-py3-none-any.whl (71 kB)\n",
      "\u001b[2K     \u001b[90m━━━━━━━━━━━━━━━━━━━━━━━━━━━━━━━━━━━━━━━━\u001b[0m \u001b[32m71.6/71.6 kB\u001b[0m \u001b[31m4.2 MB/s\u001b[0m eta \u001b[36m0:00:00\u001b[0m\n",
      "\u001b[?25hRequirement already satisfied: requests>=2.20 in /Users/staceyn/opt/miniconda3/envs/tf-venv/lib/python3.10/site-packages (from openai) (2.28.1)\n",
      "Requirement already satisfied: tqdm in /Users/staceyn/opt/miniconda3/envs/tf-venv/lib/python3.10/site-packages (from openai) (4.64.1)\n",
      "Requirement already satisfied: aiohttp in /Users/staceyn/opt/miniconda3/envs/tf-venv/lib/python3.10/site-packages (from openai) (3.8.3)\n",
      "Requirement already satisfied: charset-normalizer<3,>=2 in /Users/staceyn/opt/miniconda3/envs/tf-venv/lib/python3.10/site-packages (from requests>=2.20->openai) (2.1.1)\n",
      "Requirement already satisfied: certifi>=2017.4.17 in /Users/staceyn/opt/miniconda3/envs/tf-venv/lib/python3.10/site-packages (from requests>=2.20->openai) (2022.6.15)\n",
      "Requirement already satisfied: urllib3<1.27,>=1.21.1 in /Users/staceyn/opt/miniconda3/envs/tf-venv/lib/python3.10/site-packages (from requests>=2.20->openai) (1.26.11)\n",
      "Requirement already satisfied: idna<4,>=2.5 in /Users/staceyn/opt/miniconda3/envs/tf-venv/lib/python3.10/site-packages (from requests>=2.20->openai) (3.4)\n",
      "Requirement already satisfied: aiosignal>=1.1.2 in /Users/staceyn/opt/miniconda3/envs/tf-venv/lib/python3.10/site-packages (from aiohttp->openai) (1.2.0)\n",
      "Requirement already satisfied: frozenlist>=1.1.1 in /Users/staceyn/opt/miniconda3/envs/tf-venv/lib/python3.10/site-packages (from aiohttp->openai) (1.3.1)\n",
      "Requirement already satisfied: multidict<7.0,>=4.5 in /Users/staceyn/opt/miniconda3/envs/tf-venv/lib/python3.10/site-packages (from aiohttp->openai) (6.0.2)\n",
      "Requirement already satisfied: attrs>=17.3.0 in /Users/staceyn/opt/miniconda3/envs/tf-venv/lib/python3.10/site-packages (from aiohttp->openai) (22.1.0)\n",
      "Requirement already satisfied: async-timeout<5.0,>=4.0.0a3 in /Users/staceyn/opt/miniconda3/envs/tf-venv/lib/python3.10/site-packages (from aiohttp->openai) (4.0.2)\n",
      "Requirement already satisfied: yarl<2.0,>=1.0 in /Users/staceyn/opt/miniconda3/envs/tf-venv/lib/python3.10/site-packages (from aiohttp->openai) (1.8.1)\n",
      "Installing collected packages: openai\n",
      "  Attempting uninstall: openai\n",
      "    Found existing installation: openai 0.27.2\n",
      "    Uninstalling openai-0.27.2:\n",
      "      Successfully uninstalled openai-0.27.2\n",
      "Successfully installed openai-0.27.5\n",
      "Note: you may need to restart the kernel to use updated packages.\n"
     ]
    }
   ],
   "source": [
    "# make sure that you installed those dependencies; ChatGPT won't work without the latest version of openai\n",
    "%pip install openai\n",
    "%pip install python-dotenv\n",
    "%pip install requests\n",
    "%pip install --upgrade openai"
   ]
  },
  {
   "cell_type": "code",
   "execution_count": 5,
   "metadata": {},
   "outputs": [
    {
     "name": "stdout",
     "output_type": "stream",
     "text": [
      "Requirement already satisfied: python-decouple in /Users/staceyn/opt/miniconda3/envs/tf-venv/lib/python3.10/site-packages (3.8)\n"
     ]
    }
   ],
   "source": [
    "!pip install python-decouple"
   ]
  },
  {
   "cell_type": "code",
   "execution_count": 7,
   "metadata": {},
   "outputs": [],
   "source": [
    "# import the necessary libraries\n",
    "import os\n",
    "import json\n",
    "from decouple import config\n",
    "import matplotlib.pyplot as plt\n",
    "import pandas as pd\n",
    "import openai\n",
    "import random"
   ]
  },
  {
   "cell_type": "code",
   "execution_count": 8,
   "metadata": {},
   "outputs": [],
   "source": [
    "from decouple import config\n",
    "\n",
    "OPENAI_API_KEY = config('API_KEY')\n",
    "openai.api_key = OPENAI_API_KEY\n"
   ]
  },
  {
   "attachments": {},
   "cell_type": "markdown",
   "metadata": {},
   "source": [
    "#### 2. Loading the Data "
   ]
  },
  {
   "cell_type": "code",
   "execution_count": 13,
   "metadata": {},
   "outputs": [
    {
     "name": "stdout",
     "output_type": "stream",
     "text": [
      "4638\n"
     ]
    }
   ],
   "source": [
    "# Load the JSON file from the reclor folder \n",
    "with open('./reclor_data/train.json') as f:\n",
    "    data = json.load(f)\n",
    "\n",
    "# Check the length of the data\n",
    "print(len(data))"
   ]
  },
  {
   "cell_type": "code",
   "execution_count": 9,
   "metadata": {},
   "outputs": [],
   "source": [
    "# Load the JSON file\n",
    "with open('./reclor_data/train.json') as f:\n",
    "    reclor_train_data = json.load(f)\n",
    "\n",
    "# Cut the data to 10, 50, 100, 1000 samples\n",
    "reclor_train_data_10 = random.sample(reclor_train_data, 10)\n",
    "reclor_train_data_50 = random.sample(reclor_train_data, 50)\n",
    "reclor_train_data_100 = random.sample(reclor_train_data, 100)\n",
    "reclor_train_data_1000 = random.sample(reclor_train_data, 1000)"
   ]
  },
  {
   "attachments": {},
   "cell_type": "markdown",
   "metadata": {},
   "source": [
    "#### 3.1 Experiment on ChatGPT"
   ]
  },
  {
   "cell_type": "code",
   "execution_count": null,
   "metadata": {},
   "outputs": [],
   "source": [
    "# begin the chatgpt experiment by prompting the model with a question in the sampled data\n",
    "\n",
    "# answer_list = []\n",
    "\n",
    "# for reclor_quesiton in reclor_train_data_10:\n",
    "#     single_answer = {}\n",
    "#     context = reclor_quesiton['context']\n",
    "#     question = reclor_quesiton['question']\n",
    "#     answers = reclor_quesiton['answers']\n",
    "#     id_string = reclor_quesiton['id_string']\n",
    "#     label = reclor_quesiton['label']\n",
    "    \n",
    "#     answer_obj = openai.ChatCompletion.create(\n",
    "#         model=\"gpt-3.5-turbo\",\n",
    "#         messages=[\n",
    "#             {\"role\": \"system\", \"content\": \"You are a logician and an LSAT taker.\"},\n",
    "#             {\"role\": \"user\", \"content\": f'Given the context: {context} and question {question}. \\\n",
    "#                 Please choose the correct answer among a list of answers given: {answers}. Give \\\n",
    "#                 your the answer as a number, where 0 refers to the first answer in the answer list,\\\n",
    "#                 1 is the second answer in the answer list, 2 is the third answer in the answer list, \\\n",
    "#                 and 3 is the fourth answer in the answer list. State this number first, then state your\\\n",
    "#                 confidence in that answer, finally give an explanation of the general logical reasoning \\\n",
    "#                 you used to find the answer. Sample Response \"The answer is 0. I am 33 percent confident\\\n",
    "#                 that my answer is right. This is in accordance with the following facts....\"'},\n",
    "#         ]\n",
    "#     )\n",
    "    \n",
    "#     chatgpt_answer = answer_obj[\"choices\"][0][\"message\"][\"content\"]\n",
    "    \n",
    "#     single_answer['id'] = id_string\n",
    "#     single_answer['correct_answer'] = label\n",
    "#     single_answer['chat_gptanswer'] = chatgpt_answer\n",
    "    \n",
    "#     answer_list.append(single_answer)\n",
    "    \n",
    "# answer_list\n"
   ]
  },
  {
   "cell_type": "code",
   "execution_count": 47,
   "metadata": {},
   "outputs": [],
   "source": [
    "# Write the answer in a JSON format, very important if you don't want to waste money. If you don't do this, I will be charged for every single request you make to the API\n",
    "# with open('reclor_1000_response.json', 'w') as file:\n",
    "#     json.dump(answer_list, file)\n"
   ]
  },
  {
   "cell_type": "code",
   "execution_count": 48,
   "metadata": {},
   "outputs": [],
   "source": [
    "import json\n",
    "# if you want to load the JSON file, you can do it like this\n",
    "\n",
    "with open('reclor_1000_response.json', 'r') as f:\n",
    "    # Load the contents of the file into a list\n",
    "    answer_list = json.load(f)\n",
    "\n",
    "# Print the list\n",
    "# print(answer_list)\n"
   ]
  },
  {
   "cell_type": "code",
   "execution_count": 49,
   "metadata": {},
   "outputs": [
    {
     "data": {
      "text/plain": [
       "{'id': 'train_3350',\n",
       " 'correct_answer': 2,\n",
       " 'chat_gptanswer': \"\\n\\nThe answer is 2. I am 90% confident with my answer. The principle suggests that the Thimble Corporation has an obligation to rectify any unfair result of the situation they have created. Therefore, if there's a possibility that some customers did not apply for the rebate due to the incorrect expiration date, the Thimble Corporation should identify them and offer them the rebate to rectify the unfair result of their mistake.\"}"
      ]
     },
     "execution_count": 49,
     "metadata": {},
     "output_type": "execute_result"
    }
   ],
   "source": [
    "answer_list[0]"
   ]
  },
  {
   "cell_type": "code",
   "execution_count": 50,
   "metadata": {},
   "outputs": [
    {
     "name": "stdout",
     "output_type": "stream",
     "text": [
      "warning + train_4569\n",
      "warning + train_4134\n",
      "warning + train_1654\n",
      "warning + train_3263\n"
     ]
    }
   ],
   "source": [
    "import re\n",
    "import copy\n",
    "\n",
    "# deep copy the list\n",
    "answer_list_copy = copy.deepcopy(answer_list)\n",
    "\n",
    "new_list1 = []\n",
    "# Iterate through the list of dictionaries and update the 'chat_gptanswer' value\n",
    "for item in answer_list_copy:\n",
    "    # Use regular expressions to extract the answer label \n",
    "    response = {}\n",
    "    \n",
    "    answer_match = re.search(r'(\\b[0-9]\\b)', item['chat_gptanswer'])\n",
    "    percentage_matches = re.findall(\n",
    "        r'\\b[1-9]\\d{1,2}\\b', item['chat_gptanswer'])\n",
    "\n",
    "    response['id'] = item['id']\n",
    "    response['correct_answer'] = item['correct_answer']\n",
    "    if answer_match:\n",
    "        # Update the dictionary value with the extracted number\n",
    "        response['chat_gptanswer'] = int(answer_match.group(1))\n",
    "        response['explanation'] = [\".\".join(item['chat_gptanswer'].split('.')[2:])]\n",
    "    else:\n",
    "        # If the regular expression doesn't match, set the value to None\n",
    "        print(f'warning + {response[\"id\"]}')\n",
    "        continue  \n",
    "    if percentage_matches: \n",
    "        response['confidence'] = int(percentage_matches[0])\n",
    "    else: \n",
    "        print(f'warning + {response[\"id\"]}')\n",
    "        continue\n",
    "    new_list1.append(response)\n",
    "# Print the updated list of dictionaries\n",
    "# print(new_list1)\n"
   ]
  },
  {
   "cell_type": "code",
   "execution_count": 51,
   "metadata": {},
   "outputs": [
    {
     "data": {
      "text/html": [
       "<div>\n",
       "<style scoped>\n",
       "    .dataframe tbody tr th:only-of-type {\n",
       "        vertical-align: middle;\n",
       "    }\n",
       "\n",
       "    .dataframe tbody tr th {\n",
       "        vertical-align: top;\n",
       "    }\n",
       "\n",
       "    .dataframe thead th {\n",
       "        text-align: right;\n",
       "    }\n",
       "</style>\n",
       "<table border=\"1\" class=\"dataframe\">\n",
       "  <thead>\n",
       "    <tr style=\"text-align: right;\">\n",
       "      <th></th>\n",
       "      <th>id</th>\n",
       "      <th>correct_answer</th>\n",
       "      <th>chat_gptanswer</th>\n",
       "      <th>explanation</th>\n",
       "      <th>confidence</th>\n",
       "    </tr>\n",
       "  </thead>\n",
       "  <tbody>\n",
       "    <tr>\n",
       "      <th>0</th>\n",
       "      <td>train_3350</td>\n",
       "      <td>2</td>\n",
       "      <td>2</td>\n",
       "      <td>[ The principle suggests that the Thimble Corp...</td>\n",
       "      <td>90</td>\n",
       "    </tr>\n",
       "    <tr>\n",
       "      <th>1</th>\n",
       "      <td>train_2036</td>\n",
       "      <td>0</td>\n",
       "      <td>0</td>\n",
       "      <td>[ The argument in the answer 0 shares the same...</td>\n",
       "      <td>90</td>\n",
       "    </tr>\n",
       "    <tr>\n",
       "      <th>2</th>\n",
       "      <td>train_3344</td>\n",
       "      <td>3</td>\n",
       "      <td>2</td>\n",
       "      <td>[]</td>\n",
       "      <td>90</td>\n",
       "    </tr>\n",
       "    <tr>\n",
       "      <th>3</th>\n",
       "      <td>train_4476</td>\n",
       "      <td>0</td>\n",
       "      <td>1</td>\n",
       "      <td>[]</td>\n",
       "      <td>80</td>\n",
       "    </tr>\n",
       "    <tr>\n",
       "      <th>4</th>\n",
       "      <td>train_4317</td>\n",
       "      <td>1</td>\n",
       "      <td>1</td>\n",
       "      <td>[ The information supports the conclusion that...</td>\n",
       "      <td>100</td>\n",
       "    </tr>\n",
       "  </tbody>\n",
       "</table>\n",
       "</div>"
      ],
      "text/plain": [
       "           id  correct_answer  chat_gptanswer  \\\n",
       "0  train_3350               2               2   \n",
       "1  train_2036               0               0   \n",
       "2  train_3344               3               2   \n",
       "3  train_4476               0               1   \n",
       "4  train_4317               1               1   \n",
       "\n",
       "                                         explanation  confidence  \n",
       "0  [ The principle suggests that the Thimble Corp...          90  \n",
       "1  [ The argument in the answer 0 shares the same...          90  \n",
       "2                                                 []          90  \n",
       "3                                                 []          80  \n",
       "4  [ The information supports the conclusion that...         100  "
      ]
     },
     "execution_count": 51,
     "metadata": {},
     "output_type": "execute_result"
    }
   ],
   "source": [
    "import pandas as pd\n",
    "\n",
    "df_chatgpt = pd.DataFrame(new_list1)\n",
    "df_chatgpt.head()\n"
   ]
  },
  {
   "cell_type": "code",
   "execution_count": 53,
   "metadata": {},
   "outputs": [
    {
     "name": "stdout",
     "output_type": "stream",
     "text": [
      "Percent of Qs that chatgpt got correct out of 1000 is 58.23%\n"
     ]
    }
   ],
   "source": [
    "df_chatgpt['chatgpt_correct'] = df_chatgpt.apply(\n",
    "    lambda row: 1 if row['correct_answer'] == row['chat_gptanswer'] else 0, axis=1)\n",
    "\n",
    "percent_correct = df_chatgpt['chatgpt_correct'].sum() / df_chatgpt.shape[0] * 100.0\n",
    "print(f\"Percent of Qs that chatgpt got correct out of 1000 is {percent_correct:.2f}%\")\n"
   ]
  },
  {
   "cell_type": "code",
   "execution_count": 17,
   "metadata": {},
   "outputs": [
    {
     "data": {
      "text/plain": [
       "89.68975903614458"
      ]
     },
     "execution_count": 17,
     "metadata": {},
     "output_type": "execute_result"
    }
   ],
   "source": [
    "df_chatgpt['confidence'].mean()\n"
   ]
  },
  {
   "cell_type": "code",
   "execution_count": 19,
   "metadata": {},
   "outputs": [],
   "source": [
    "filtered_df = df_chatgpt[df_chatgpt['chatgpt_correct'] != 1]\n"
   ]
  },
  {
   "cell_type": "code",
   "execution_count": 20,
   "metadata": {},
   "outputs": [
    {
     "data": {
      "text/plain": [
       "89.14663461538461"
      ]
     },
     "execution_count": 20,
     "metadata": {},
     "output_type": "execute_result"
    }
   ],
   "source": [
    "filtered_df['confidence'].mean()"
   ]
  },
  {
   "cell_type": "code",
   "execution_count": 21,
   "metadata": {},
   "outputs": [],
   "source": [
    "filtered_df = df_chatgpt[df_chatgpt['chatgpt_correct'] != 0]"
   ]
  },
  {
   "cell_type": "code",
   "execution_count": 22,
   "metadata": {},
   "outputs": [
    {
     "data": {
      "text/plain": [
       "90.07931034482759"
      ]
     },
     "execution_count": 22,
     "metadata": {},
     "output_type": "execute_result"
    }
   ],
   "source": [
    "filtered_df['confidence'].mean()"
   ]
  },
  {
   "cell_type": "code",
   "execution_count": 72,
   "metadata": {},
   "outputs": [],
   "source": [
    "correct_df = df_chatgpt[df_chatgpt['correct_answer'] == df_chatgpt['chat_gptanswer']]"
   ]
  },
  {
   "cell_type": "code",
   "execution_count": 22,
   "metadata": {},
   "outputs": [],
   "source": [
    "# change the below to a list \n",
    "correct_df['id']\n",
    "\n",
    "correct_lst = correct_df['id'].tolist()\n",
    "\n",
    "# print(correct_lst)"
   ]
  },
  {
   "cell_type": "code",
   "execution_count": 23,
   "metadata": {},
   "outputs": [],
   "source": [
    "list_of_correct_gpt3=_answers = []\n",
    "\n",
    "for item in reclor_train_data_1000:\n",
    "    if item['id_string'] in correct_lst:\n",
    "        list_of_correct_gpt3.append(item)\n"
   ]
  },
  {
   "cell_type": "code",
   "execution_count": 24,
   "metadata": {},
   "outputs": [
    {
     "data": {
      "text/plain": [
       "114"
      ]
     },
     "execution_count": 24,
     "metadata": {},
     "output_type": "execute_result"
    }
   ],
   "source": [
    "len(list_of_correct_gpt3)\n"
   ]
  },
  {
   "attachments": {},
   "cell_type": "markdown",
   "metadata": {},
   "source": [
    "#### 3.2 Experiment on GPT3"
   ]
  },
  {
   "cell_type": "code",
   "execution_count": null,
   "metadata": {},
   "outputs": [],
   "source": [
    "# gpt_answer_list = []\n",
    "\n",
    "# for reclor_quesiton in reclor_train_data_1000:\n",
    "#     single_answer = {}\n",
    "#     context = reclor_quesiton['context']\n",
    "#     quesiton = reclor_quesiton['question']\n",
    "#     answers = reclor_quesiton['answers']\n",
    "#     id_string = reclor_quesiton['id_string']\n",
    "#     label = reclor_quesiton['label']\n",
    "\n",
    "#     answer_obj = openai.Completion.create(\n",
    "#         model=\"text-davinci-003\",\n",
    "#         max_tokens=300,\n",
    "#         prompt=f'Context: {context} and question {quesiton} choosing the correct answer among a list of answers in {answers}. State the answer you have chosen, then state its position in the list of answers. For example, 0 if it is the first answer; 1 if it is the second one; 2 if it is the third one, 3 if it is the fourth one. Give me the response in this format: \"The answer label is 1. Not all people are bad at math.\" Answer: ?',\n",
    "#     )\n",
    "\n",
    "#     gpt3_answer = answer_obj[\"choices\"][0][\"text\"]\n",
    "\n",
    "#     single_answer['id'] = id_string\n",
    "#     single_answer['correct_answer'] = label\n",
    "#     single_answer['gpt3_answer'] = gpt3_answer\n",
    "\n",
    "#     gpt_answer_list.append(single_answer)\n",
    "\n",
    "# with open('reclor_1000_gpt3_response.json', 'w') as file:\n",
    "#     json.dump(gpt_answer_list, file)\n"
   ]
  },
  {
   "cell_type": "code",
   "execution_count": 54,
   "metadata": {},
   "outputs": [],
   "source": [
    "# if you just want to load the file and not run the code above\n",
    "\n",
    "import json\n",
    "\n",
    "# Open the JSON file\n",
    "with open('reclor_1000_gpt3_response.json', 'r') as f:\n",
    "    # Load the contents of the file into a list\n",
    "    gpt_answer_list = json.load(f)\n",
    "\n",
    "# Print the list\n",
    "# print(gpt_answer_list)\n"
   ]
  },
  {
   "cell_type": "code",
   "execution_count": 55,
   "metadata": {},
   "outputs": [
    {
     "name": "stdout",
     "output_type": "stream",
     "text": [
      "train_4208\n",
      "train_2149\n",
      "train_4176\n",
      "train_3628\n",
      "train_1795\n",
      "train_325\n"
     ]
    }
   ],
   "source": [
    "# Your original list of dictionaries\n",
    "# deep copy the list\n",
    "copy_gpt_list = copy.deepcopy(gpt_answer_list)\n",
    "final_gpt_list = []\n",
    "\n",
    "# Iterate through the list of dictionaries and update the 'chat_gptanswer' value\n",
    "for item in gpt_answer_list:\n",
    "    # Use regular expressions to extract the answer label\n",
    "    response = {}\n",
    "    response['id'] = item['id']\n",
    "    response['correct_answer'] = item['correct_answer']\n",
    "    \n",
    "    # Create a regular expression pattern to match the answer label\n",
    "    regex_pattern = re.compile(r'\\b(first|second|third|fourth)\\b')\n",
    "    item['gpt3_answer'] = regex_pattern.sub(lambda m: {\n",
    "                                            'first': '0', 'second': '1', 'third': '2', 'fourth': '3'}[m.group(1)], item['gpt3_answer'])\n",
    "\n",
    "    answer_match = re.search(r'(\\b[0-9]\\b)', item['gpt3_answer'])\n",
    "\n",
    "    if answer_match:\n",
    "        # Update the dictionary value with the extracted number\n",
    "        response['gpt3_answer'] = int(answer_match.group(1))\n",
    "    else:\n",
    "        # If the regular expression doesn't match, set the value to None\n",
    "        print(item['id'])\n",
    "        continue\n",
    "    \n",
    "    final_gpt_list.append(response)\n",
    "    \n"
   ]
  },
  {
   "cell_type": "code",
   "execution_count": 56,
   "metadata": {},
   "outputs": [
    {
     "name": "stdout",
     "output_type": "stream",
     "text": [
      "Percent of Qs that chatgpt got correct out of 1000 is 47.69%\n"
     ]
    }
   ],
   "source": [
    "import pandas as pd\n",
    "\n",
    "df_gpt = pd.DataFrame(final_gpt_list)\n",
    "df_gpt.head()\n",
    "\n",
    "df_gpt['percent_correct'] = df_gpt.apply(\n",
    "    lambda row: 1.0 if row['correct_answer'] == row['gpt3_answer'] else 0.0, axis=1)\n",
    "\n",
    "percent_correct = df_gpt['percent_correct'].sum() / len(df_gpt) * 100.0\n",
    "\n",
    "print(f\"Percent of Qs that chatgpt got correct out of 1000 is {percent_correct:.2f}%\")"
   ]
  },
  {
   "cell_type": "code",
   "execution_count": 57,
   "metadata": {},
   "outputs": [],
   "source": [
    "df_gpt = df_gpt.rename(columns={'percent_correct': 'gpt_correct'})\n",
    "\n",
    "# df_gpt"
   ]
  },
  {
   "cell_type": "code",
   "execution_count": 58,
   "metadata": {},
   "outputs": [
    {
     "data": {
      "text/html": [
       "<div>\n",
       "<style scoped>\n",
       "    .dataframe tbody tr th:only-of-type {\n",
       "        vertical-align: middle;\n",
       "    }\n",
       "\n",
       "    .dataframe tbody tr th {\n",
       "        vertical-align: top;\n",
       "    }\n",
       "\n",
       "    .dataframe thead th {\n",
       "        text-align: right;\n",
       "    }\n",
       "</style>\n",
       "<table border=\"1\" class=\"dataframe\">\n",
       "  <thead>\n",
       "    <tr style=\"text-align: right;\">\n",
       "      <th></th>\n",
       "      <th>id</th>\n",
       "      <th>chat_gptanswer</th>\n",
       "      <th>explanation</th>\n",
       "      <th>confidence</th>\n",
       "      <th>chatgpt_correct</th>\n",
       "    </tr>\n",
       "  </thead>\n",
       "  <tbody>\n",
       "    <tr>\n",
       "      <th>0</th>\n",
       "      <td>train_3350</td>\n",
       "      <td>2</td>\n",
       "      <td>[ The principle suggests that the Thimble Corp...</td>\n",
       "      <td>90</td>\n",
       "      <td>1</td>\n",
       "    </tr>\n",
       "    <tr>\n",
       "      <th>1</th>\n",
       "      <td>train_2036</td>\n",
       "      <td>0</td>\n",
       "      <td>[ The argument in the answer 0 shares the same...</td>\n",
       "      <td>90</td>\n",
       "      <td>1</td>\n",
       "    </tr>\n",
       "    <tr>\n",
       "      <th>2</th>\n",
       "      <td>train_3344</td>\n",
       "      <td>2</td>\n",
       "      <td>[]</td>\n",
       "      <td>90</td>\n",
       "      <td>0</td>\n",
       "    </tr>\n",
       "    <tr>\n",
       "      <th>3</th>\n",
       "      <td>train_4476</td>\n",
       "      <td>1</td>\n",
       "      <td>[]</td>\n",
       "      <td>80</td>\n",
       "      <td>0</td>\n",
       "    </tr>\n",
       "    <tr>\n",
       "      <th>4</th>\n",
       "      <td>train_4317</td>\n",
       "      <td>1</td>\n",
       "      <td>[ The information supports the conclusion that...</td>\n",
       "      <td>100</td>\n",
       "      <td>1</td>\n",
       "    </tr>\n",
       "    <tr>\n",
       "      <th>...</th>\n",
       "      <td>...</td>\n",
       "      <td>...</td>\n",
       "      <td>...</td>\n",
       "      <td>...</td>\n",
       "      <td>...</td>\n",
       "    </tr>\n",
       "    <tr>\n",
       "      <th>991</th>\n",
       "      <td>train_4606</td>\n",
       "      <td>1</td>\n",
       "      <td>[ The conclusion drawn by the sociologist is t...</td>\n",
       "      <td>95</td>\n",
       "      <td>1</td>\n",
       "    </tr>\n",
       "    <tr>\n",
       "      <th>992</th>\n",
       "      <td>train_549</td>\n",
       "      <td>0</td>\n",
       "      <td>[ The fact that production work on Thieves beg...</td>\n",
       "      <td>90</td>\n",
       "      <td>0</td>\n",
       "    </tr>\n",
       "    <tr>\n",
       "      <th>993</th>\n",
       "      <td>train_2458</td>\n",
       "      <td>1</td>\n",
       "      <td>[ I am very confident (around 90%) that this i...</td>\n",
       "      <td>90</td>\n",
       "      <td>1</td>\n",
       "    </tr>\n",
       "    <tr>\n",
       "      <th>994</th>\n",
       "      <td>train_4214</td>\n",
       "      <td>1</td>\n",
       "      <td>[]</td>\n",
       "      <td>95</td>\n",
       "      <td>1</td>\n",
       "    </tr>\n",
       "    <tr>\n",
       "      <th>995</th>\n",
       "      <td>train_4319</td>\n",
       "      <td>1</td>\n",
       "      <td>[ David contradicts Marianna's conclusion with...</td>\n",
       "      <td>90</td>\n",
       "      <td>0</td>\n",
       "    </tr>\n",
       "  </tbody>\n",
       "</table>\n",
       "<p>996 rows × 5 columns</p>\n",
       "</div>"
      ],
      "text/plain": [
       "             id  chat_gptanswer  \\\n",
       "0    train_3350               2   \n",
       "1    train_2036               0   \n",
       "2    train_3344               2   \n",
       "3    train_4476               1   \n",
       "4    train_4317               1   \n",
       "..          ...             ...   \n",
       "991  train_4606               1   \n",
       "992   train_549               0   \n",
       "993  train_2458               1   \n",
       "994  train_4214               1   \n",
       "995  train_4319               1   \n",
       "\n",
       "                                           explanation  confidence  \\\n",
       "0    [ The principle suggests that the Thimble Corp...          90   \n",
       "1    [ The argument in the answer 0 shares the same...          90   \n",
       "2                                                   []          90   \n",
       "3                                                   []          80   \n",
       "4    [ The information supports the conclusion that...         100   \n",
       "..                                                 ...         ...   \n",
       "991  [ The conclusion drawn by the sociologist is t...          95   \n",
       "992  [ The fact that production work on Thieves beg...          90   \n",
       "993  [ I am very confident (around 90%) that this i...          90   \n",
       "994                                                 []          95   \n",
       "995  [ David contradicts Marianna's conclusion with...          90   \n",
       "\n",
       "     chatgpt_correct  \n",
       "0                  1  \n",
       "1                  1  \n",
       "2                  0  \n",
       "3                  0  \n",
       "4                  1  \n",
       "..               ...  \n",
       "991                1  \n",
       "992                0  \n",
       "993                1  \n",
       "994                1  \n",
       "995                0  \n",
       "\n",
       "[996 rows x 5 columns]"
      ]
     },
     "execution_count": 58,
     "metadata": {},
     "output_type": "execute_result"
    }
   ],
   "source": [
    "# df_chatgpt = df_chatgpt.rename(columns={'correct': 'chatgpt_correct'})\n",
    "# df_chatgpt = df_chatgpt.drop('confidence', axis=1)\n",
    "\n",
    "df_chatgpt_drop_correct = df_chatgpt.drop('correct_answer', axis=1)\n",
    "df_chatgpt_drop_correct\n"
   ]
  },
  {
   "cell_type": "code",
   "execution_count": 59,
   "metadata": {},
   "outputs": [
    {
     "data": {
      "text/html": [
       "<div>\n",
       "<style scoped>\n",
       "    .dataframe tbody tr th:only-of-type {\n",
       "        vertical-align: middle;\n",
       "    }\n",
       "\n",
       "    .dataframe tbody tr th {\n",
       "        vertical-align: top;\n",
       "    }\n",
       "\n",
       "    .dataframe thead th {\n",
       "        text-align: right;\n",
       "    }\n",
       "</style>\n",
       "<table border=\"1\" class=\"dataframe\">\n",
       "  <thead>\n",
       "    <tr style=\"text-align: right;\">\n",
       "      <th></th>\n",
       "      <th>id</th>\n",
       "      <th>chat_gptanswer</th>\n",
       "      <th>explanation</th>\n",
       "      <th>confidence</th>\n",
       "      <th>chatgpt_correct</th>\n",
       "      <th>correct_answer</th>\n",
       "      <th>gpt3_answer</th>\n",
       "      <th>gpt_correct</th>\n",
       "    </tr>\n",
       "  </thead>\n",
       "  <tbody>\n",
       "    <tr>\n",
       "      <th>0</th>\n",
       "      <td>train_3350</td>\n",
       "      <td>2</td>\n",
       "      <td>[ The principle suggests that the Thimble Corp...</td>\n",
       "      <td>90</td>\n",
       "      <td>1</td>\n",
       "      <td>2</td>\n",
       "      <td>3</td>\n",
       "      <td>0.0</td>\n",
       "    </tr>\n",
       "    <tr>\n",
       "      <th>1</th>\n",
       "      <td>train_2036</td>\n",
       "      <td>0</td>\n",
       "      <td>[ The argument in the answer 0 shares the same...</td>\n",
       "      <td>90</td>\n",
       "      <td>1</td>\n",
       "      <td>0</td>\n",
       "      <td>3</td>\n",
       "      <td>0.0</td>\n",
       "    </tr>\n",
       "    <tr>\n",
       "      <th>2</th>\n",
       "      <td>train_3344</td>\n",
       "      <td>2</td>\n",
       "      <td>[]</td>\n",
       "      <td>90</td>\n",
       "      <td>0</td>\n",
       "      <td>3</td>\n",
       "      <td>0</td>\n",
       "      <td>0.0</td>\n",
       "    </tr>\n",
       "    <tr>\n",
       "      <th>3</th>\n",
       "      <td>train_4476</td>\n",
       "      <td>1</td>\n",
       "      <td>[]</td>\n",
       "      <td>80</td>\n",
       "      <td>0</td>\n",
       "      <td>0</td>\n",
       "      <td>1</td>\n",
       "      <td>0.0</td>\n",
       "    </tr>\n",
       "    <tr>\n",
       "      <th>4</th>\n",
       "      <td>train_4317</td>\n",
       "      <td>1</td>\n",
       "      <td>[ The information supports the conclusion that...</td>\n",
       "      <td>100</td>\n",
       "      <td>1</td>\n",
       "      <td>1</td>\n",
       "      <td>2</td>\n",
       "      <td>0.0</td>\n",
       "    </tr>\n",
       "    <tr>\n",
       "      <th>...</th>\n",
       "      <td>...</td>\n",
       "      <td>...</td>\n",
       "      <td>...</td>\n",
       "      <td>...</td>\n",
       "      <td>...</td>\n",
       "      <td>...</td>\n",
       "      <td>...</td>\n",
       "      <td>...</td>\n",
       "    </tr>\n",
       "    <tr>\n",
       "      <th>985</th>\n",
       "      <td>train_4606</td>\n",
       "      <td>1</td>\n",
       "      <td>[ The conclusion drawn by the sociologist is t...</td>\n",
       "      <td>95</td>\n",
       "      <td>1</td>\n",
       "      <td>1</td>\n",
       "      <td>1</td>\n",
       "      <td>1.0</td>\n",
       "    </tr>\n",
       "    <tr>\n",
       "      <th>986</th>\n",
       "      <td>train_549</td>\n",
       "      <td>0</td>\n",
       "      <td>[ The fact that production work on Thieves beg...</td>\n",
       "      <td>90</td>\n",
       "      <td>0</td>\n",
       "      <td>3</td>\n",
       "      <td>2</td>\n",
       "      <td>0.0</td>\n",
       "    </tr>\n",
       "    <tr>\n",
       "      <th>987</th>\n",
       "      <td>train_2458</td>\n",
       "      <td>1</td>\n",
       "      <td>[ I am very confident (around 90%) that this i...</td>\n",
       "      <td>90</td>\n",
       "      <td>1</td>\n",
       "      <td>1</td>\n",
       "      <td>0</td>\n",
       "      <td>0.0</td>\n",
       "    </tr>\n",
       "    <tr>\n",
       "      <th>988</th>\n",
       "      <td>train_4214</td>\n",
       "      <td>1</td>\n",
       "      <td>[]</td>\n",
       "      <td>95</td>\n",
       "      <td>1</td>\n",
       "      <td>1</td>\n",
       "      <td>2</td>\n",
       "      <td>0.0</td>\n",
       "    </tr>\n",
       "    <tr>\n",
       "      <th>989</th>\n",
       "      <td>train_4319</td>\n",
       "      <td>1</td>\n",
       "      <td>[ David contradicts Marianna's conclusion with...</td>\n",
       "      <td>90</td>\n",
       "      <td>0</td>\n",
       "      <td>0</td>\n",
       "      <td>2</td>\n",
       "      <td>0.0</td>\n",
       "    </tr>\n",
       "  </tbody>\n",
       "</table>\n",
       "<p>990 rows × 8 columns</p>\n",
       "</div>"
      ],
      "text/plain": [
       "             id  chat_gptanswer  \\\n",
       "0    train_3350               2   \n",
       "1    train_2036               0   \n",
       "2    train_3344               2   \n",
       "3    train_4476               1   \n",
       "4    train_4317               1   \n",
       "..          ...             ...   \n",
       "985  train_4606               1   \n",
       "986   train_549               0   \n",
       "987  train_2458               1   \n",
       "988  train_4214               1   \n",
       "989  train_4319               1   \n",
       "\n",
       "                                           explanation  confidence  \\\n",
       "0    [ The principle suggests that the Thimble Corp...          90   \n",
       "1    [ The argument in the answer 0 shares the same...          90   \n",
       "2                                                   []          90   \n",
       "3                                                   []          80   \n",
       "4    [ The information supports the conclusion that...         100   \n",
       "..                                                 ...         ...   \n",
       "985  [ The conclusion drawn by the sociologist is t...          95   \n",
       "986  [ The fact that production work on Thieves beg...          90   \n",
       "987  [ I am very confident (around 90%) that this i...          90   \n",
       "988                                                 []          95   \n",
       "989  [ David contradicts Marianna's conclusion with...          90   \n",
       "\n",
       "     chatgpt_correct  correct_answer  gpt3_answer  gpt_correct  \n",
       "0                  1               2            3          0.0  \n",
       "1                  1               0            3          0.0  \n",
       "2                  0               3            0          0.0  \n",
       "3                  0               0            1          0.0  \n",
       "4                  1               1            2          0.0  \n",
       "..               ...             ...          ...          ...  \n",
       "985                1               1            1          1.0  \n",
       "986                0               3            2          0.0  \n",
       "987                1               1            0          0.0  \n",
       "988                1               1            2          0.0  \n",
       "989                0               0            2          0.0  \n",
       "\n",
       "[990 rows x 8 columns]"
      ]
     },
     "execution_count": 59,
     "metadata": {},
     "output_type": "execute_result"
    }
   ],
   "source": [
    "merged_df = pd.merge(df_chatgpt_drop_correct, df_gpt, on='id')\n",
    "merged_df\n"
   ]
  },
  {
   "cell_type": "code",
   "execution_count": 60,
   "metadata": {},
   "outputs": [
    {
     "name": "stdout",
     "output_type": "stream",
     "text": [
      "Requirement already satisfied: matplotlib_venn in /Users/staceyn/opt/miniconda3/envs/tf-venv/lib/python3.10/site-packages (0.11.9)\n",
      "Requirement already satisfied: numpy in /Users/staceyn/opt/miniconda3/envs/tf-venv/lib/python3.10/site-packages (from matplotlib_venn) (1.23.4)\n",
      "Requirement already satisfied: matplotlib in /Users/staceyn/opt/miniconda3/envs/tf-venv/lib/python3.10/site-packages (from matplotlib_venn) (3.6.2)\n",
      "Requirement already satisfied: scipy in /Users/staceyn/opt/miniconda3/envs/tf-venv/lib/python3.10/site-packages (from matplotlib_venn) (1.9.3)\n",
      "Requirement already satisfied: contourpy>=1.0.1 in /Users/staceyn/opt/miniconda3/envs/tf-venv/lib/python3.10/site-packages (from matplotlib->matplotlib_venn) (1.0.6)\n",
      "Requirement already satisfied: pyparsing>=2.2.1 in /Users/staceyn/opt/miniconda3/envs/tf-venv/lib/python3.10/site-packages (from matplotlib->matplotlib_venn) (3.0.9)\n",
      "Requirement already satisfied: cycler>=0.10 in /Users/staceyn/opt/miniconda3/envs/tf-venv/lib/python3.10/site-packages (from matplotlib->matplotlib_venn) (0.11.0)\n",
      "Requirement already satisfied: fonttools>=4.22.0 in /Users/staceyn/opt/miniconda3/envs/tf-venv/lib/python3.10/site-packages (from matplotlib->matplotlib_venn) (4.38.0)\n",
      "Requirement already satisfied: python-dateutil>=2.7 in /Users/staceyn/opt/miniconda3/envs/tf-venv/lib/python3.10/site-packages (from matplotlib->matplotlib_venn) (2.8.2)\n",
      "Requirement already satisfied: kiwisolver>=1.0.1 in /Users/staceyn/opt/miniconda3/envs/tf-venv/lib/python3.10/site-packages (from matplotlib->matplotlib_venn) (1.4.4)\n",
      "Requirement already satisfied: packaging>=20.0 in /Users/staceyn/opt/miniconda3/envs/tf-venv/lib/python3.10/site-packages (from matplotlib->matplotlib_venn) (21.3)\n",
      "Requirement already satisfied: pillow>=6.2.0 in /Users/staceyn/opt/miniconda3/envs/tf-venv/lib/python3.10/site-packages (from matplotlib->matplotlib_venn) (9.3.0)\n",
      "Requirement already satisfied: six>=1.5 in /Users/staceyn/opt/miniconda3/envs/tf-venv/lib/python3.10/site-packages (from python-dateutil>=2.7->matplotlib->matplotlib_venn) (1.16.0)\n"
     ]
    }
   ],
   "source": [
    "!pip install matplotlib_venn\n"
   ]
  },
  {
   "cell_type": "code",
   "execution_count": 61,
   "metadata": {},
   "outputs": [
    {
     "data": {
      "image/png": "[encoded data removed]",
      "text/plain": [
       "<Figure size 640x480 with 1 Axes>"
      ]
     },
     "metadata": {},
     "output_type": "display_data"
    }
   ],
   "source": [
    "import pandas as pd\n",
    "from matplotlib import pyplot as plt\n",
    "from matplotlib_venn import venn2\n",
    "\n",
    "both_correct = merged_df[(merged_df['chatgpt_correct'] == True) &\n",
    "                         (merged_df['gpt_correct'] == True)].shape[0]\n",
    "only_chatgpt_correct = merged_df[(merged_df['chatgpt_correct'] == True) & (\n",
    "    merged_df['gpt_correct'] == False)].shape[0]\n",
    "only_gpt_correct = merged_df[(merged_df['chatgpt_correct'] == False) &\n",
    "                             (merged_df['gpt_correct'] == True)].shape[0]\n",
    "neither_correct = merged_df[(merged_df['chatgpt_correct'] == False) &\n",
    "                            (merged_df['gpt_correct'] == False)].shape[0]\n",
    "\n",
    "# Create the Venn diagram\n",
    "venn2(subsets=(only_chatgpt_correct, only_gpt_correct, both_correct),\n",
    "      set_labels=('ChatGPT', 'GPT'))\n",
    "\n",
    "# Set the background color to white\n",
    "plt.gca().set_facecolor('w')\n",
    "\n",
    "# Add a title to the diagram\n",
    "plt.title('Overlap of ChatGPT and GPT Answers')\n",
    "\n",
    "# Show the diagram\n",
    "plt.show()\n"
   ]
  },
  {
   "cell_type": "code",
   "execution_count": 62,
   "metadata": {},
   "outputs": [],
   "source": [
    "both_incorr = merged_df[(merged_df['chatgpt_correct'] == 0) & (merged_df['gpt_correct'] == 0)]\n",
    "incorr_both_qs = pd.DataFrame(columns=['id_string','question', 'answers', 'label', 'context'])\n",
    "# index = 0\n",
    "for i in reclor_train_data:\n",
    "    if i['id_string'] in both_incorr['id'].to_list():\n",
    "        df1 = pd.DataFrame([[i['id_string'], i['question'], i['answers'], i['label'], i['context']]],\\\n",
    "                            columns=['id_string','question', 'answers', 'label', 'context'])\n",
    "        incorr_both_qs = pd.concat([incorr_both_qs,df1])\n",
    "incorr_both_qs\n",
    "complete_incorr_both_qs = pd.merge(incorr_both_qs, merged_df, left_on='id_string', right_on='id')\n",
    "complete_incorr_both_qs = complete_incorr_both_qs.drop(['id', 'correct_answer', 'gpt_correct', 'chatgpt_correct'], axis=1)\n",
    "# complete_incorr_both_qs"
   ]
  },
  {
   "cell_type": "code",
   "execution_count": 153,
   "metadata": {},
   "outputs": [],
   "source": [
    "# complete_incorr_both_qs.to_csv('data/complete_incorr_both_models_qs.csv', index=False)"
   ]
  },
  {
   "cell_type": "code",
   "execution_count": 63,
   "metadata": {},
   "outputs": [],
   "source": [
    "gpt_corrs = merged_df[(merged_df['chatgpt_correct'] == 0) & (merged_df['gpt_correct'] == 1)]\n",
    "# gpt_corrs"
   ]
  },
  {
   "cell_type": "code",
   "execution_count": 66,
   "metadata": {},
   "outputs": [],
   "source": [
    "corr_gpt_ans_ids = gpt_corrs['id'].to_list()\n",
    "corr_gpt_ans = gpt_corrs['correct_answer'].to_list()\n",
    "corr_gpt_ans_qs = pd.DataFrame(columns=['id_string','question', 'answers', 'label', 'context'])\n",
    "# index = 0\n",
    "for i in reclor_train_data:\n",
    "    if i['id_string'] in corr_gpt_ans_ids:\n",
    "        df1 = pd.DataFrame([[i['id_string'], i['question'], i['answers'], i['label'], i['context']]],\\\n",
    "                            columns=['id_string','question', 'answers', 'label', 'context'])\n",
    "        corr_gpt_ans_qs = pd.concat([corr_gpt_ans_qs,df1])\n",
    "        # index += 1"
   ]
  },
  {
   "cell_type": "code",
   "execution_count": 69,
   "metadata": {},
   "outputs": [],
   "source": [
    "both_corrs = merged_df[(merged_df['chatgpt_correct'] == 1) & (merged_df['gpt_correct'] == 1)].copy()\n",
    "\n",
    "corr_both_ans = both_corrs['id'].to_list()\n",
    "corr_both_ans_qs = pd.DataFrame(columns=['id_string','question', 'answers', 'label', 'context'])\n",
    "# index = 0\n",
    "for i in reclor_train_data:\n",
    "    if i['id_string'] in corr_both_ans:\n",
    "        df1 = pd.DataFrame([[i['id_string'], i['question'], i['answers'], i['label'], i['context']]],\\\n",
    "                            columns=['id_string','question', 'answers', 'label', 'context'])\n",
    "        corr_both_ans_qs = pd.concat([corr_both_ans_qs,df1])\n",
    "# corr_both_ans_qs"
   ]
  },
  {
   "cell_type": "code",
   "execution_count": 71,
   "metadata": {},
   "outputs": [],
   "source": [
    "only_chatgpt_corrs = merged_df[(merged_df['chatgpt_correct'] == 1) & (merged_df['gpt_correct'] == 0)].copy()\n",
    "\n",
    "corr_chatgpt_ans = only_chatgpt_corrs['id'].to_list()\n",
    "corr_chatgpt_ans_qs = pd.DataFrame(columns=['id_string','question', 'answers', 'label', 'context'])\n",
    "# index = 0\n",
    "for i in reclor_train_data:\n",
    "    if i['id_string'] in corr_chatgpt_ans:\n",
    "        df1 = pd.DataFrame([[i['id_string'], i['question'], i['answers'], i['label'], i['context']]],\\\n",
    "                            columns=['id_string','question', 'answers', 'label', 'context'])\n",
    "        corr_chatgpt_ans_qs = pd.concat([corr_chatgpt_ans_qs,df1])\n",
    "# corr_chatgpt_ans_qs"
   ]
  },
  {
   "cell_type": "code",
   "execution_count": 73,
   "metadata": {},
   "outputs": [],
   "source": [
    "corr_chatgpt_ans_qs['context_w_length'] = corr_chatgpt_ans_qs['context'].apply(lambda x: len(x.split()))\n",
    "corr_chatgpt_ans_qs['question_w_length'] = corr_chatgpt_ans_qs['question'].apply(lambda x: len(x.split()))\n",
    "corr_chatgpt_ans_qs['correct_answer'] = corr_chatgpt_ans_qs.apply(lambda x: x['answers'][x['label']], axis=1)\n",
    "corr_chatgpt_ans_qs['corr_answer_w_length'] = corr_chatgpt_ans_qs['correct_answer'].apply(lambda x: len(x.split()))\n",
    "corr_gpt_ans_qs['context_w_length'] = corr_gpt_ans_qs['context'].apply(lambda x: len(x.split()))\n",
    "corr_gpt_ans_qs['question_w_length'] = corr_gpt_ans_qs['question'].apply(lambda x: len(x.split()))\n",
    "corr_gpt_ans_qs['correct_answer'] = corr_gpt_ans_qs.apply(lambda x: x['answers'][x['label']], axis=1)\n",
    "corr_gpt_ans_qs['corr_answer_w_length'] = corr_gpt_ans_qs['correct_answer'].apply(lambda x: len(x.split()))\n",
    "corr_both_ans_qs['context_w_length'] = corr_both_ans_qs['context'].apply(lambda x: len(x.split()))\n",
    "corr_both_ans_qs['question_w_length'] = corr_both_ans_qs['question'].apply(lambda x: len(x.split()))\n",
    "corr_both_ans_qs['correct_answer'] = corr_both_ans_qs.apply(lambda x: x['answers'][x['label']], axis=1)\n",
    "corr_both_ans_qs['corr_answer_w_length'] = corr_both_ans_qs['correct_answer'].apply(lambda x: len(x.split()))"
   ]
  },
  {
   "cell_type": "code",
   "execution_count": 74,
   "metadata": {},
   "outputs": [
    {
     "data": {
      "image/png": "[encoded data removed]",
      "text/plain": [
       "<Figure size 640x480 with 1 Axes>"
      ]
     },
     "metadata": {},
     "output_type": "display_data"
    },
    {
     "data": {
      "image/png": "[encoded data removed]",
      "text/plain": [
       "<Figure size 640x480 with 1 Axes>"
      ]
     },
     "metadata": {},
     "output_type": "display_data"
    }
   ],
   "source": [
    "hist = corr_gpt_ans_qs.hist(column='context_w_length', bins=20, range=[0,130])\n",
    "hist = corr_chatgpt_ans_qs.hist(column='context_w_length', bins=20, range=[0,130])"
   ]
  },
  {
   "cell_type": "code",
   "execution_count": 75,
   "metadata": {},
   "outputs": [
    {
     "data": {
      "text/plain": [
       "Text(0, 0.5, 'Frequency')"
      ]
     },
     "execution_count": 75,
     "metadata": {},
     "output_type": "execute_result"
    },
    {
     "data": {
      "text/plain": [
       "<Figure size 640x480 with 0 Axes>"
      ]
     },
     "metadata": {},
     "output_type": "display_data"
    },
    {
     "data": {
      "image/png": "[encoded data removed]",
      "text/plain": [
       "<Figure size 640x480 with 1 Axes>"
      ]
     },
     "metadata": {},
     "output_type": "display_data"
    },
    {
     "data": {
      "image/png": "[encoded data removed]",
      "text/plain": [
       "<Figure size 640x480 with 1 Axes>"
      ]
     },
     "metadata": {},
     "output_type": "display_data"
    }
   ],
   "source": [
    "fig = plt.figure()\n",
    "hist = corr_gpt_ans_qs.hist(column=\"corr_answer_w_length\", bins=20, range=[0,65])\n",
    "plt.title(\"GPT-3 : Nr. tokens in corr answer\")\n",
    "plt.xlabel(\"Nr. tokens\")\n",
    "plt.ylabel(\"Frequency\")\n",
    "hist = corr_chatgpt_ans_qs.hist(column='corr_answer_w_length', bins=20, range=[0,65])\n",
    "plt.title(\"ChatGPT (GPT 3.5) : Nr. tokens in corr answer\")\n",
    "plt.xlabel(\"Nr. tokens\")\n",
    "plt.ylabel(\"Frequency\")\n",
    "# pl.title(\"Histogram of Ages\")\n",
    "# pl.xlabel(\"Age\")\n",
    "# pl.ylabel(\"Individuals\")\n"
   ]
  },
  {
   "cell_type": "markdown",
   "metadata": {},
   "source": [
    "Creating the explanations dataset with the chatgpt explanations for each answer"
   ]
  },
  {
   "cell_type": "code",
   "execution_count": 76,
   "metadata": {},
   "outputs": [],
   "source": [
    "# answer_list_cgpt = []\n",
    "# for index, i in enumerate(reclor_train_data):\n",
    "#     if index>439:\n",
    "#         single_answer = {}\n",
    "#         context = i['context']\n",
    "#         question = i['question']\n",
    "#         answers = i['answers']\n",
    "#         id_string = i['id_string']\n",
    "#         label = i['label']\n",
    "#         answer_obj = openai.ChatCompletion.create(\n",
    "#             model=\"gpt-3.5-turbo\",\n",
    "#             messages=[\n",
    "#                 {\"role\": \"system\", \"content\": \"You are a logician and an LSAT taker.\"},\n",
    "#                 {\"role\": \"user\", \"content\": f'Given the context: {context} and question {question}. \\\n",
    "#                     Please choose the correct answer among a list of answer options given: {answers}. Give \\\n",
    "#                     your answer as a number, where 0, 1, 2 and 3 refers to the first, second, third and fourth answer in the answer list respectively.\\\n",
    "#                     Finally, give a single sentence explanation of the general logical reasoning \\\n",
    "#                     you used to arrive at the answer without using the same wording as any of the answer options in your response. \\\n",
    "#                     Stop text generation after the explanation. Do not use any of the same phrasing as the answer options \\\n",
    "#                     anywhere in your response.\\\n",
    "#                     Sample Response: \"The answer is 0. Explanation: This is my explanation.\" '},\n",
    "#             ]\n",
    "#         )\n",
    "#         chatgpt_answer = answer_obj[\"choices\"][0][\"message\"][\"content\"]\n",
    "        \n",
    "#         single_answer['id'] = id_string\n",
    "#         single_answer['correct_answer'] = label\n",
    "#         single_answer['chat_gptanswer'] = chatgpt_answer\n",
    "#         single_answer['question'] = question\n",
    "#         single_answer['answers'] = answers\n",
    "#         single_answer['context'] = context\n",
    "#         answer_list_cgpt.append(single_answer)\n",
    "#     # break\n",
    "    \n",
    "# answer_list_cgpt\n",
    "# with open('reclor_all_cgpt_context_w_explanations_0414.json', 'w') as f:\n",
    "#     # Load the contents of the file into a list\n",
    "#     json.dump(answer_list_cgpt,f)"
   ]
  },
  {
   "cell_type": "code",
   "execution_count": 199,
   "metadata": {},
   "outputs": [],
   "source": [
    "# with open('reclor_all_cgpt_context_w_explanations_0414_1624.json', 'w') as f:\n",
    "#     # Load the contents of the file into a list\n",
    "#     json.dump(answer_list_cgpt,f)\n"
   ]
  },
  {
   "cell_type": "code",
   "execution_count": 118,
   "metadata": {},
   "outputs": [
    {
     "name": "stdout",
     "output_type": "stream",
     "text": [
      "1624\n"
     ]
    }
   ],
   "source": [
    "# Load the JSON file from the reclor folder \n",
    "with open('data/reclor_all_cgpt_context_w_explanations_0414_1624.json') as f:\n",
    "    answer_list_cgpt = json.load(f)\n",
    "\n",
    "# Check the length of the data\n",
    "print(len(answer_list_cgpt))"
   ]
  },
  {
   "cell_type": "code",
   "execution_count": 78,
   "metadata": {},
   "outputs": [],
   "source": [
    "# deep copy the list\n",
    "answer_list_copy = copy.deepcopy(answer_list_cgpt)\n",
    "\n",
    "new_list1 = []\n",
    "# Iterate through the list of dictionaries and update the 'chat_gptanswer' value\n",
    "for item in answer_list_copy:\n",
    "    # Use regular expressions to extract the answer label \n",
    "    response = {}\n",
    "    \n",
    "    answer_match = re.search(r'(\\b[0-9]\\b)', item['chat_gptanswer'])\n",
    "\n",
    "    response['id'] = item['id']\n",
    "    response['correct_answer'] = item['correct_answer']\n",
    "    if answer_match:\n",
    "        # Update the dictionary value with the extracted number\n",
    "        response['chat_gptanswer'] = int(answer_match.group(1))\n",
    "        response['correct'] = response['chat_gptanswer']==item['correct_answer']\n",
    "        response['explanation'] = [\".\".join(item['chat_gptanswer'].split('.')[1:3])]\n",
    "        response['context'] = item['context']\n",
    "        if response['correct']:\n",
    "            response['context_extended'] = item['context'] + response['explanation'][0]\n",
    "        else:\n",
    "            response['context_extended'] = item['context']\n",
    "        response['question'] = item['question']\n",
    "        response['answers'] = item['answers']\n",
    "    else:\n",
    "        # If the regular expression doesn't match, set the value to None\n",
    "        print(f'warning + {response[\"id\"]}')\n",
    "        continue  \n",
    "    new_list1.append(response)"
   ]
  },
  {
   "cell_type": "code",
   "execution_count": 87,
   "metadata": {},
   "outputs": [],
   "source": [
    "df = pd.DataFrame(new_list1)\n",
    "corr_answer = []\n",
    "for i in range(df.shape[0]):\n",
    "    a = df.iloc[i].answers\n",
    "    corr_answer.append(a[int(df.iloc[i].correct_answer)])\n",
    "df['corr_answer_sentence'] = corr_answer\n",
    "df['explanation'] = df['explanation'].apply(lambda x: x[0])\n",
    "# df"
   ]
  },
  {
   "cell_type": "code",
   "execution_count": 88,
   "metadata": {},
   "outputs": [],
   "source": [
    "df_corr = df[df['correct']==True]\n",
    "# df_corr.to_csv(\"cgpt_corr_resp_991.csv\", index=False)"
   ]
  },
  {
   "cell_type": "code",
   "execution_count": 104,
   "metadata": {},
   "outputs": [
    {
     "data": {
      "text/plain": [
       "True     991\n",
       "False    633\n",
       "Name: correct, dtype: int64"
      ]
     },
     "execution_count": 104,
     "metadata": {},
     "output_type": "execute_result"
    }
   ],
   "source": [
    "df['correct'].value_counts()"
   ]
  },
  {
   "cell_type": "code",
   "execution_count": 220,
   "metadata": {},
   "outputs": [],
   "source": [
    "# df = pd.DataFrame(new_list1)\n",
    "# df_correct = df[df['correct']==True]\n",
    "# gpt_answer_listcorr = []\n",
    "# for i in range(df_correct.shape[0]):\n",
    "#         single_answer = {}\n",
    "#         context = df_correct.iloc[i].context\n",
    "#         question = df_correct.iloc[i].question\n",
    "#         answers = df_correct.iloc[i].answers\n",
    "#         id_string = df_correct.iloc[i].id\n",
    "#         label = df_correct.iloc[i].correct_answer\n",
    "\n",
    "#         answer_obj = openai.Completion.create(\n",
    "#             model=\"text-davinci-003\",\n",
    "#             max_tokens=300,\n",
    "#             prompt=f'Context: {context} and question {question} choosing the correct answer among a list of answers in {answers}. State the position of the answer you have chosen in the list of answers. For example, 0 if it is the first answer; 1 if it is the second one; 2 if it is the third one, 3 if it is the fourth one. Example response: \"1\" Answer: ?',\n",
    "#         )\n",
    "\n",
    "#         gpt3_answer = answer_obj[\"choices\"][0][\"text\"]\n",
    "\n",
    "#         single_answer['id'] = id_string\n",
    "#         single_answer['correct_answer'] = str(label)\n",
    "#         single_answer['gpt3_answer'] = gpt3_answer\n",
    "#         # single_answer['correct'] = single_answer['correct_answer'] == single_answer['gpt3_answer']\n",
    "#         gpt_answer_listcorr.append(single_answer)\n",
    "# with open('reclor_allcorr_gpt3_context_0414.json', 'w') as f:\n",
    "#     # Load the contents of the file into a list\n",
    "#     json.dump(gpt_answer_listcorr,f)"
   ]
  },
  {
   "cell_type": "code",
   "execution_count": 117,
   "metadata": {},
   "outputs": [
    {
     "name": "stdout",
     "output_type": "stream",
     "text": [
      "991\n"
     ]
    }
   ],
   "source": [
    "# Load the JSON file from the reclor folder \n",
    "with open('data/reclor_allcorr_gpt3_context_w_explanations_0414.json') as f:\n",
    "    gpt_answer_listcorr = json.load(f)\n",
    "\n",
    "# Check the length of the data\n",
    "print(len(gpt_answer_listcorr))"
   ]
  },
  {
   "cell_type": "code",
   "execution_count": 110,
   "metadata": {},
   "outputs": [
    {
     "data": {
      "text/plain": [
       "True     788\n",
       "False    163\n",
       "Name: correct, dtype: int64"
      ]
     },
     "execution_count": 110,
     "metadata": {},
     "output_type": "execute_result"
    }
   ],
   "source": [
    "copy_gpt_list = copy.deepcopy(gpt_answer_listcorr)\n",
    "gpt_list_answers = []\n",
    "\n",
    "# Iterate through the list of dictionaries and update the 'chat_gptanswer' value\n",
    "for item in gpt_answer_listcorr:\n",
    "    # Use regular expressions to extract the answer label\n",
    "    response = {}\n",
    "    response['id'] = item['id']\n",
    "    response['correct_answer'] = item['correct_answer']\n",
    "    \n",
    "    # Create a regular expression pattern to match the answer label\n",
    "    regex_pattern = re.compile(r'\\b(first|second|third|fourth)\\b')\n",
    "    # item['gpt3_answer'] = regex_pattern.sub(lambda m: {\n",
    "    #                                         'first': '0', 'second': '1', 'third': '2', 'fourth': '3'}[m.group(1)], item['gpt3_answer'])\n",
    "\n",
    "    answer_match = re.search(r'(\\b[0-9]\\b)', item['gpt3_answer'])\n",
    "\n",
    "    if answer_match:\n",
    "        # Update the dictionary value with the extracted number\n",
    "        response['gpt3_answer'] = int(answer_match.group(1))\n",
    "    else:\n",
    "        # If the regular expression doesn't match, set the value to None\n",
    "        # print(item['id'])\n",
    "        continue\n",
    "    \n",
    "    gpt_list_answers.append(response)\n",
    "df_gpt_w_cont = pd.DataFrame(gpt_list_answers)\n",
    "df_gpt_w_cont['correct_answer'] = df_gpt_w_cont['correct_answer'].astype(int)\n",
    "df_gpt_w_cont['correct'] = (df_gpt_w_cont['correct_answer'] == df_gpt_w_cont['gpt3_answer'])\n",
    "df_gpt_w_cont['correct'].value_counts()"
   ]
  },
  {
   "cell_type": "code",
   "execution_count": 119,
   "metadata": {},
   "outputs": [
    {
     "data": {
      "text/plain": [
       "Text(0, 0.5, 'Frequency')"
      ]
     },
     "execution_count": 119,
     "metadata": {},
     "output_type": "execute_result"
    },
    {
     "data": {
      "image/png": "[encoded data removed]",
      "text/plain": [
       "<Figure size 640x480 with 1 Axes>"
      ]
     },
     "metadata": {},
     "output_type": "display_data"
    }
   ],
   "source": [
    "df_w_sim = pd.read_csv(\"data/sent_similarity_2.csv\")\n",
    "\n",
    "df_w_sim_merged = df_w_sim.merge(df_gpt_w_cont, on='id')\n",
    "df_corr_gpt = df_w_sim_merged[df_w_sim_merged['correct_y']==True].copy()\n",
    "df_incorr_gpt = df_w_sim_merged[df_w_sim_merged['correct_y']==False].copy()\n",
    "df_corr_gpt['cos_sim_1'].hist()\n",
    "plt.title(\"Cosine Similarity scores for GPT-3's correctly answered Qs\")\n",
    "plt.xlabel(\"Cosine similarity explanation line 1 and correct answer\")\n",
    "plt.ylabel(\"Frequency\")\n"
   ]
  },
  {
   "cell_type": "code",
   "execution_count": 114,
   "metadata": {},
   "outputs": [
    {
     "data": {
      "text/plain": [
       "Text(0, 0.5, 'Frequency')"
      ]
     },
     "execution_count": 114,
     "metadata": {},
     "output_type": "execute_result"
    },
    {
     "data": {
      "image/png": "[encoded data removed]",
      "text/plain": [
       "<Figure size 640x480 with 1 Axes>"
      ]
     },
     "metadata": {},
     "output_type": "display_data"
    }
   ],
   "source": [
    "df_corr_gpt['cos_sim_2'].hist()\n",
    "plt.title(\"Cosine Similarity scores for GPT-3's correctly answered Qs\")\n",
    "plt.xlabel(\"Cosine similarity explanation line 2 and correct answer\")\n",
    "plt.ylabel(\"Frequency\")"
   ]
  },
  {
   "cell_type": "code",
   "execution_count": 115,
   "metadata": {},
   "outputs": [
    {
     "data": {
      "text/plain": [
       "Text(0, 0.5, 'Frequency')"
      ]
     },
     "execution_count": 115,
     "metadata": {},
     "output_type": "execute_result"
    },
    {
     "data": {
      "image/png": "[encoded data removed]",
      "text/plain": [
       "<Figure size 640x480 with 1 Axes>"
      ]
     },
     "metadata": {},
     "output_type": "display_data"
    }
   ],
   "source": [
    "df_incorr_gpt['cos_sim_1'].hist()\n",
    "plt.title(\"Cosine Similarity scores for GPT-3's incorrectly answered Qs\")\n",
    "plt.xlabel(\"Cosine similarity explanation line 1 and correct answer\")\n",
    "plt.ylabel(\"Frequency\")"
   ]
  },
  {
   "cell_type": "code",
   "execution_count": 116,
   "metadata": {},
   "outputs": [
    {
     "data": {
      "text/plain": [
       "Text(0, 0.5, 'Frequency')"
      ]
     },
     "execution_count": 116,
     "metadata": {},
     "output_type": "execute_result"
    },
    {
     "data": {
      "image/png": "[encoded data removed]",
      "text/plain": [
       "<Figure size 640x480 with 1 Axes>"
      ]
     },
     "metadata": {},
     "output_type": "display_data"
    }
   ],
   "source": [
    "df_incorr_gpt['cos_sim_2'].hist()\n",
    "plt.title(\"Cosine Similarity scores for GPT-3's incorrectly answered Qs\")\n",
    "plt.xlabel(\"Cosine similarity explanation line 2 and correct answer\")\n",
    "plt.ylabel(\"Frequency\")"
   ]
  }
 ],
 "metadata": {
  "kernelspec": {
   "display_name": "Python 3.10.6 ('tf-venv')",
   "language": "python",
   "name": "python3"
  },
  "language_info": {
   "codemirror_mode": {
    "name": "ipython",
    "version": 3
   },
   "file_extension": ".py",
   "mimetype": "text/x-python",
   "name": "python",
   "nbconvert_exporter": "python",
   "pygments_lexer": "ipython3",
   "version": "3.10.6"
  },
  "orig_nbformat": 4,
  "vscode": {
   "interpreter": {
    "hash": "8ac698281861f1251d1b125eb9f647a972b992270a14a8a554c1a091efb2b1f6"
   }
  }
 },
 "nbformat": 4,
 "nbformat_minor": 2
}
